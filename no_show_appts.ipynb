{
 "cells": [
  {
   "cell_type": "markdown",
   "metadata": {},
   "source": [
    "# Project: Investigating No-Show Appointments in Brazil\n",
    "\n",
    "## Table of Contents\n",
    "<ul>\n",
    "<li><a href=\"#intro\">Introduction</a></li>\n",
    "<li><a href=\"#wrangling\">Data Wrangling</a></li>\n",
    "<li><a href=\"#eda\">Exploratory Data Analysis</a></li>\n",
    "<li><a href=\"#limitations\">Limitations</a></li>\n",
    "<li><a href=\"#conclusions\">Conclusions</a></li>\n",
    "</ul>"
   ]
  },
  {
   "cell_type": "markdown",
   "metadata": {},
   "source": [
    "<a id='intro'></a>\n",
    "## Introduction\n",
    "\n",
    "> No-shows to medical appointments are an issue all over the world. They harm not only the patient, who doesn't receive any treatment or diagnosis, but they also negatively impact medical professional's schedule and ability to see more patients. If one could determine strong predictors for when a patient will no-show, special programs and focus could be put to use decreasing the no-show rate much more effectively.\n",
    "\n",
    "> The data for this project comes from over 100,000 medical appointments in Brazil over a 3 month period. It includes whether or not the patient showed up for their appointment, as well as several other factors such as age, gender, diabetes status, and others."
   ]
  },
  {
   "cell_type": "code",
   "execution_count": 88,
   "metadata": {},
   "outputs": [],
   "source": [
    "\n",
    "import numpy as np\n",
    "import pandas as pd\n",
    "import matplotlib as plt\n",
    "\n",
    "% matplotlib inline\n"
   ]
  },
  {
   "cell_type": "markdown",
   "metadata": {},
   "source": [
    "<a id='wrangling'></a>\n",
    "## Data Wrangling\n",
    "\n"
   ]
  },
  {
   "cell_type": "markdown",
   "metadata": {},
   "source": [
    ">The date is loaded into a pandas DataFrame and then checked for null values and duplicates. As you can see the data looks pretty well formatted already as there are no null values or duplicate rows.\n",
    "\n",
    ">Pandas' info method shows that the data has 14 columns with 110527 entries in each column. Things of note: patient ID is stored as a float instead of an int and the scheduled day and appointment day columns are dates stored as strings. Then there are several columns stored as integers but the only values are 1 if the entry is true for the particular column, or 0 if its false. And the last column, and probably the most important, is if the patient was a no show to their appointment. It's stored as a string, either 'yes' for the patient was a no show or 'no' if the patient was not a no show."
   ]
  },
  {
   "cell_type": "code",
   "execution_count": 89,
   "metadata": {},
   "outputs": [
    {
     "name": "stdout",
     "output_type": "stream",
     "text": [
      "<class 'pandas.core.frame.DataFrame'>\n",
      "RangeIndex: 110527 entries, 0 to 110526\n",
      "Data columns (total 14 columns):\n",
      "PatientId         110527 non-null float64\n",
      "AppointmentID     110527 non-null int64\n",
      "Gender            110527 non-null object\n",
      "ScheduledDay      110527 non-null object\n",
      "AppointmentDay    110527 non-null object\n",
      "Age               110527 non-null int64\n",
      "Neighbourhood     110527 non-null object\n",
      "Scholarship       110527 non-null int64\n",
      "Hipertension      110527 non-null int64\n",
      "Diabetes          110527 non-null int64\n",
      "Alcoholism        110527 non-null int64\n",
      "Handcap           110527 non-null int64\n",
      "SMS_received      110527 non-null int64\n",
      "No-show           110527 non-null object\n",
      "dtypes: float64(1), int64(8), object(5)\n",
      "memory usage: 11.8+ MB\n",
      "None\n",
      "\n",
      "\n",
      "PatientId         0\n",
      "AppointmentID     0\n",
      "Gender            0\n",
      "ScheduledDay      0\n",
      "AppointmentDay    0\n",
      "Age               0\n",
      "Neighbourhood     0\n",
      "Scholarship       0\n",
      "Hipertension      0\n",
      "Diabetes          0\n",
      "Alcoholism        0\n",
      "Handcap           0\n",
      "SMS_received      0\n",
      "No-show           0\n",
      "dtype: int64\n",
      "\n",
      "\n",
      "duplicated rows: 0\n",
      "\n",
      "\n",
      "duplicated patient id: 48228\n"
     ]
    }
   ],
   "source": [
    "# Load your data and print out a few lines. Perform operations to inspect data\n",
    "#   types and look for instances of missing or possibly errant data.\n",
    "df = pd.read_csv('noshowappointments_may_2016.csv')\n",
    "print(df.info())\n",
    "print('\\n')\n",
    "print(df.isnull().sum())\n",
    "print('\\n')\n",
    "dupes = df.duplicated().sum()\n",
    "patient_dupes = df['PatientId'].duplicated().sum()\n",
    "print(f'duplicated rows: {dupes}')\n",
    "print('\\n')\n",
    "print(f'duplicated patient id: {patient_dupes}')"
   ]
  },
  {
   "cell_type": "markdown",
   "metadata": {},
   "source": [
    "### Data Cleaning\n",
    "\n",
    ">Column names are changed for easier use and better readability.\n"
   ]
  },
  {
   "cell_type": "code",
   "execution_count": 90,
   "metadata": {},
   "outputs": [
    {
     "name": "stdout",
     "output_type": "stream",
     "text": [
      "<class 'pandas.core.frame.DataFrame'>\n",
      "RangeIndex: 110527 entries, 0 to 110526\n",
      "Data columns (total 14 columns):\n",
      "patient_id       110527 non-null float64\n",
      "appt_id          110527 non-null int64\n",
      "gender           110527 non-null object\n",
      "scheduled_day    110527 non-null object\n",
      "appt_day         110527 non-null object\n",
      "age              110527 non-null int64\n",
      "neighborhood     110527 non-null object\n",
      "scholarship      110527 non-null int64\n",
      "hypertension     110527 non-null int64\n",
      "diabetes         110527 non-null int64\n",
      "alcoholism       110527 non-null int64\n",
      "handicapped      110527 non-null int64\n",
      "sms_received     110527 non-null int64\n",
      "noshow           110527 non-null object\n",
      "dtypes: float64(1), int64(8), object(5)\n",
      "memory usage: 11.8+ MB\n",
      "None\n"
     ]
    }
   ],
   "source": [
    "df.rename(columns = lambda x: x.lower().replace('-',''), inplace=True)\n",
    "df.rename(columns={\n",
    "    'patientid':'patient_id', 'appointmentid':'appt_id', 'scheduledday':'scheduled_day', \n",
    "    'appointmentday':'appt_day', 'neighbourhood':'neighborhood', 'hipertension':'hypertension', \n",
    "    'handcap':'handicapped'}, inplace=True)\n",
    "print(df.info())\n"
   ]
  },
  {
   "cell_type": "markdown",
   "metadata": {},
   "source": [
    ">Both the 'scheduled_day' and the 'appt_day' columns are changed to pandas timestamp datatype. In the original csv file the data is stored as a string, but it's well formatted so the only line needed is pandas' to_datetime function."
   ]
  },
  {
   "cell_type": "code",
   "execution_count": 91,
   "metadata": {},
   "outputs": [
    {
     "name": "stdout",
     "output_type": "stream",
     "text": [
      "2016-04-29T16:19:04Z\n",
      "<class 'str'>\n",
      "0    75045\n",
      "1    35482\n",
      "Name: sms_received, dtype: int64\n"
     ]
    }
   ],
   "source": [
    "print(df['scheduled_day'].iloc[2])\n",
    "print(type(df['scheduled_day'].iloc[2]))\n",
    "\n",
    "print(df['sms_received'].value_counts())"
   ]
  },
  {
   "cell_type": "code",
   "execution_count": 92,
   "metadata": {},
   "outputs": [
    {
     "name": "stdout",
     "output_type": "stream",
     "text": [
      "2016-04-29 16:19:04\n",
      "<class 'pandas._libs.tslib.Timestamp'>\n"
     ]
    }
   ],
   "source": [
    "df['scheduled_day'] = pd.to_datetime(df['scheduled_day'])\n",
    "df['appt_day'] = pd.to_datetime(df['appt_day'])\n",
    "\n",
    "print(df['scheduled_day'].iloc[2])\n",
    "print(type(df['scheduled_day'].iloc[2]))"
   ]
  },
  {
   "cell_type": "markdown",
   "metadata": {},
   "source": [
    ">The scholarship, hypertension, diabetes, alcoholism, handicapped, and sms_received columns are all essentially True or False columns but are stored as integers with a value of 0 or 1. I changed them to bools because I think it makes more sense to have them that way."
   ]
  },
  {
   "cell_type": "code",
   "execution_count": 93,
   "metadata": {},
   "outputs": [],
   "source": [
    "bool_columns = ['scholarship', 'hypertension', 'diabetes', 'alcoholism', 'handicapped', 'sms_received']\n",
    "df[bool_columns] = df[bool_columns].astype('bool')"
   ]
  },
  {
   "cell_type": "markdown",
   "metadata": {},
   "source": [
    ">The last column that denotes if the patient showed up to the appointment or not is they key result I want to try and predict but it's stored as a string value: 'Yes' if the patient was a no show and 'No' if the patient was not a no show.\n",
    "\n",
    ">I wanted to change the column from 'noshow' to 'appt_kept' because I felt there could be some confusion with double negatives (e.g., this patient was not a no-show). This also means I need to reverse all the entries so they match up with the new column title.\n",
    "\n",
    ">A string makes it more difficult to find correlations so I changed this column to boolean values, with 'Yes' becoming False and 'No' becoming True."
   ]
  },
  {
   "cell_type": "code",
   "execution_count": 94,
   "metadata": {},
   "outputs": [
    {
     "name": "stdout",
     "output_type": "stream",
     "text": [
      "No     88208\n",
      "Yes    22319\n",
      "Name: noshow, dtype: int64\n",
      "True     88208\n",
      "False    22319\n",
      "Name: appt_kept, dtype: int64\n"
     ]
    }
   ],
   "source": [
    "print(df['noshow'].value_counts())\n",
    "df.rename(columns = {'noshow':'appt_kept'}, inplace=True)\n",
    "df['appt_kept'] = df['appt_kept'].replace({'Yes':False, 'No':True})\n",
    "print(df['appt_kept'].value_counts())\n",
    "\n"
   ]
  },
  {
   "cell_type": "markdown",
   "metadata": {},
   "source": [
    "<a id='eda'></a>\n",
    "## Exploratory Data Analysis\n",
    "\n",
    "\n",
    "\n",
    "### What factors are better at predicting a kept appointment?\n",
    "\n",
    ">There are 11 factors in the table that can be directly compared to the appt_kept rate: gender of the patient, date the appointment was scheduled, date of the actual appointment, neighborhood of the hospital, age of the patient, if the patient recieved help from the Bolsa Family scholarship, if the patient had hypertension, diabetes, alcoholism, is handicapped, and if the patient had received one or more sms message from their medical provider.\n",
    "\n",
    ">Of those, 7 are numerical or boolean and can be easily compared to if the patient kept their appointment."
   ]
  },
  {
   "cell_type": "code",
   "execution_count": 95,
   "metadata": {},
   "outputs": [
    {
     "name": "stdout",
     "output_type": "stream",
     "text": [
      "age             0.060319\n",
      "scholarship    -0.029135\n",
      "hypertension    0.035701\n",
      "diabetes        0.015180\n",
      "alcoholism      0.000196\n",
      "handicapped     0.007281\n",
      "sms_received   -0.126431\n",
      "dtype: float64\n"
     ]
    }
   ],
   "source": [
    "df_num_bool = pd.concat([df.iloc[:,5],df.iloc[:,7:13]],axis=1)\n",
    "appt_corr = df_num_bool.apply(lambda x: x.corr(df['appt_kept']))\n",
    "print(appt_corr)"
   ]
  },
  {
   "cell_type": "markdown",
   "metadata": {},
   "source": [
    ">For this dataset, age is the only numerical category. Looking at its distribution one can see that the appointment counts are pretty evenly distributed between ages 0 and 60 and fall off after that."
   ]
  },
  {
   "cell_type": "code",
   "execution_count": 96,
   "metadata": {},
   "outputs": [
    {
     "data": {
      "text/plain": [
       "Text(0.5,0,'Patient Age')"
      ]
     },
     "execution_count": 96,
     "metadata": {},
     "output_type": "execute_result"
    },
    {
     "data": {
      "image/png": "[encoded data removed]",
      "text/plain": [
       "<matplotlib.figure.Figure at 0x7fc5865d15c0>"
      ]
     },
     "metadata": {},
     "output_type": "display_data"
    }
   ],
   "source": [
    "ax = df['age'].plot(kind='hist',title='Age Distribution of Patients');\n",
    "ax.set_xlabel('Patient Age')\n"
   ]
  },
  {
   "cell_type": "markdown",
   "metadata": {},
   "source": [
    ">For gender, I can compare the means between the male and female groups with pandas groupby function."
   ]
  },
  {
   "cell_type": "code",
   "execution_count": 97,
   "metadata": {},
   "outputs": [
    {
     "name": "stdout",
     "output_type": "stream",
     "text": [
      "gender\n",
      "F    0.796854\n",
      "M    0.800321\n",
      "Name: appt_kept, dtype: float64\n"
     ]
    },
    {
     "data": {
      "text/plain": [
       "Text(0,0.5,'Appointment Kept Rate')"
      ]
     },
     "execution_count": 97,
     "metadata": {},
     "output_type": "execute_result"
    },
    {
     "data": {
      "image/png": "[encoded data removed]",
      "text/plain": [
       "<matplotlib.figure.Figure at 0x7fc5897f6fd0>"
      ]
     },
     "metadata": {},
     "output_type": "display_data"
    }
   ],
   "source": [
    "df_gender = df.groupby(['gender'])['appt_kept'].mean()\n",
    "print(df_gender)\n",
    "ax=df_gender.plot(kind='bar', title='Appointment Kept Mean by Gender')\n",
    "ax.set_xlabel('Patient Gender')\n",
    "ax.set_ylabel('Appointment Kept Rate')"
   ]
  },
  {
   "cell_type": "markdown",
   "metadata": {},
   "source": [
    ">For neighborhoods, I started by looking at the count of each neighboor, and the mean when grouped by neighborhood. This showed the data contains 81 relevant neighborhoods."
   ]
  },
  {
   "cell_type": "code",
   "execution_count": 98,
   "metadata": {},
   "outputs": [
    {
     "name": "stdout",
     "output_type": "stream",
     "text": [
      "neighborhood\n",
      "ILHAS OCEÂNICAS DE TRINDADE    0.000000\n",
      "SANTOS DUMONT                  0.710815\n",
      "SANTA CECÍLIA                  0.725446\n",
      "SANTA CLARA                    0.735178\n",
      "ITARARÉ                        0.737336\n",
      "JESUS DE NAZARETH              0.756046\n",
      "HORTO                          0.760000\n",
      "ILHA DO PRÍNCIPE               0.765225\n",
      "CARATOÍRA                      0.769591\n",
      "ANDORINHAS                     0.769673\n",
      "PRAIA DO SUÁ                   0.771739\n",
      "GURIGICA                       0.774034\n",
      "BENTO FERREIRA                 0.775058\n",
      "PARQUE MOSCOSO                 0.776808\n",
      "MARUÍPE                        0.777077\n",
      "DO MOSCOSO                     0.777240\n",
      "ENSEADA DO SUÁ                 0.778723\n",
      "ARIOVALDO FAVALESSA            0.780142\n",
      "ILHA DAS CAIEIRAS              0.780579\n",
      "FONTE GRANDE                   0.781525\n",
      "CRUZAMENTO                     0.782546\n",
      "SÃO JOSÉ                       0.783510\n",
      "BARRO VERMELHO                 0.784870\n",
      "NAZARETH                       0.785185\n",
      "ROMÃO                          0.786005\n",
      "CENTRO                         0.789142\n",
      "UNIVERSITÁRIO                  0.789474\n",
      "SÃO PEDRO                      0.789624\n",
      "MARIA ORTIZ                    0.790009\n",
      "SANTA HELENA                   0.792135\n",
      "                                 ...   \n",
      "CONQUISTA                      0.811543\n",
      "FRADINHOS                      0.813953\n",
      "BOA VISTA                      0.814103\n",
      "ANTÔNIO HONÓRIO                0.815498\n",
      "PRAIA DO CANTO                 0.816425\n",
      "FORTE SÃO JOÃO                 0.816834\n",
      "TABUAZEIRO                     0.817050\n",
      "JOANA D´ARC                    0.819201\n",
      "COMDUSA                        0.819355\n",
      "SANTA LUÍZA                    0.820093\n",
      "JABOUR                         0.820247\n",
      "NOVA PALESTINA                 0.822438\n",
      "REDENÇÃO                       0.822923\n",
      "SANTO ANTÔNIO                  0.823744\n",
      "PONTAL DE CAMBURI              0.826087\n",
      "CONSOLAÇÃO                     0.827762\n",
      "REPÚBLICA                      0.828743\n",
      "MATA DA PRAIA                  0.829193\n",
      "MORADA DE CAMBURI              0.833333\n",
      "VILA RUBIM                     0.834313\n",
      "DO QUADRO                      0.835100\n",
      "JARDIM DA PENHA                0.837245\n",
      "SANTA MARTHA                   0.841584\n",
      "DO CABRAL                      0.842857\n",
      "DE LOURDES                     0.845902\n",
      "SOLON BORGES                   0.852878\n",
      "MÁRIO CYPRESTE                 0.854447\n",
      "AEROPORTO                      0.875000\n",
      "ILHA DO BOI                    0.914286\n",
      "PARQUE INDUSTRIAL              1.000000\n",
      "Name: appt_kept, Length: 81, dtype: float64 PARQUE INDUSTRIAL                 1\n",
      "ILHAS OCEÂNICAS DE TRINDADE       2\n",
      "AEROPORTO                         8\n",
      "ILHA DO FRADE                    10\n",
      "ILHA DO BOI                      35\n",
      "PONTAL DE CAMBURI                69\n",
      "MORADA DE CAMBURI                96\n",
      "NAZARETH                        135\n",
      "SEGURANÇA DO LAR                145\n",
      "UNIVERSITÁRIO                   152\n",
      "HORTO                           175\n",
      "SANTA HELENA                    178\n",
      "ENSEADA DO SUÁ                  235\n",
      "FRADINHOS                       258\n",
      "ANTÔNIO HONÓRIO                 271\n",
      "ARIOVALDO FAVALESSA             282\n",
      "DE LOURDES                      305\n",
      "COMDUSA                         310\n",
      "BOA VISTA                       312\n",
      "MÁRIO CYPRESTE                  371\n",
      "DO MOSCOSO                      413\n",
      "BARRO VERMELHO                  423\n",
      "SANTA LUÍZA                     428\n",
      "SANTA LÚCIA                     438\n",
      "SANTA CECÍLIA                   448\n",
      "PIEDADE                         452\n",
      "SOLON BORGES                    469\n",
      "SANTA CLARA                     506\n",
      "ESTRELINHA                      538\n",
      "SANTOS REIS                     547\n",
      "                               ... \n",
      "JOANA D´ARC                    1427\n",
      "SÃO BENEDITO                   1439\n",
      "REDENÇÃO                       1553\n",
      "SÃO CRISTÓVÃO                  1836\n",
      "ILHA DE SANTA MARIA            1885\n",
      "FORTE SÃO JOÃO                 1889\n",
      "MARUÍPE                        1902\n",
      "BELA VISTA                     1907\n",
      "SÃO JOSÉ                       1977\n",
      "GURIGICA                       2018\n",
      "ROMÃO                          2215\n",
      "DA PENHA                       2217\n",
      "ANDORINHAS                     2262\n",
      "NOVA PALESTINA                 2264\n",
      "ILHA DO PRÍNCIPE               2266\n",
      "SÃO PEDRO                      2448\n",
      "JABOUR                         2509\n",
      "CARATOÍRA                      2565\n",
      "SANTO ANDRÉ                    2571\n",
      "SANTO ANTÔNIO                  2746\n",
      "BONFIM                         2773\n",
      "JESUS DE NAZARETH              2853\n",
      "SANTA MARTHA                   3131\n",
      "TABUAZEIRO                     3132\n",
      "CENTRO                         3334\n",
      "ITARARÉ                        3514\n",
      "JARDIM DA PENHA                3877\n",
      "RESISTÊNCIA                    4431\n",
      "MARIA ORTIZ                    5805\n",
      "JARDIM CAMBURI                 7717\n",
      "Name: neighborhood, Length: 81, dtype: int64\n"
     ]
    }
   ],
   "source": [
    "neighborhood_means = df.groupby(['neighborhood'])['appt_kept'].mean().sort_values()\n",
    "neighborhood_counts = df['neighborhood'].value_counts().sort_values()\n",
    "\n",
    "print(neighborhood_means, neighborhood_counts)"
   ]
  },
  {
   "cell_type": "markdown",
   "metadata": {},
   "source": [
    ">I put the two columns into one dataframe so the averages can be put in better context. Some of the highest outlier neighborhoods have the smallest counts meaning they're not very reliable."
   ]
  },
  {
   "cell_type": "code",
   "execution_count": 99,
   "metadata": {},
   "outputs": [
    {
     "name": "stdout",
     "output_type": "stream",
     "text": [
      "Mean appointment kept rate: 0.798067440534892\n",
      "                             avg_appt_kept  appt_count\n",
      "ILHAS OCEÂNICAS DE TRINDADE       0.000000           2\n",
      "SANTOS DUMONT                     0.710815        1276\n",
      "SANTA CECÍLIA                     0.725446         448\n",
      "SANTA CLARA                       0.735178         506\n",
      "ITARARÉ                           0.737336        3514\n",
      "JESUS DE NAZARETH                 0.756046        2853\n",
      "HORTO                             0.760000         175\n",
      "ILHA DO PRÍNCIPE                  0.765225        2266\n",
      "CARATOÍRA                         0.769591        2565\n",
      "ANDORINHAS                        0.769673        2262\n",
      "PRAIA DO SUÁ                      0.771739        1288\n",
      "GURIGICA                          0.774034        2018\n",
      "BENTO FERREIRA                    0.775058         858\n",
      "PARQUE MOSCOSO                    0.776808         802\n",
      "MARUÍPE                           0.777077        1902\n",
      "DO MOSCOSO                        0.777240         413\n",
      "ENSEADA DO SUÁ                    0.778723         235\n",
      "ARIOVALDO FAVALESSA               0.780142         282\n",
      "ILHA DAS CAIEIRAS                 0.780579        1071\n",
      "FONTE GRANDE                      0.781525         682\n",
      "CRUZAMENTO                        0.782546        1398\n",
      "SÃO JOSÉ                          0.783510        1977\n",
      "BARRO VERMELHO                    0.784870         423\n",
      "NAZARETH                          0.785185         135\n",
      "ROMÃO                             0.786005        2215\n",
      "CENTRO                            0.789142        3334\n",
      "UNIVERSITÁRIO                     0.789474         152\n",
      "SÃO PEDRO                         0.789624        2448\n",
      "MARIA ORTIZ                       0.790009        5805\n",
      "SANTA HELENA                      0.792135         178\n",
      "...                                    ...         ...\n",
      "CONQUISTA                         0.811543         849\n",
      "FRADINHOS                         0.813953         258\n",
      "BOA VISTA                         0.814103         312\n",
      "ANTÔNIO HONÓRIO                   0.815498         271\n",
      "PRAIA DO CANTO                    0.816425        1035\n",
      "FORTE SÃO JOÃO                    0.816834        1889\n",
      "TABUAZEIRO                        0.817050        3132\n",
      "JOANA D´ARC                       0.819201        1427\n",
      "COMDUSA                           0.819355         310\n",
      "SANTA LUÍZA                       0.820093         428\n",
      "JABOUR                            0.820247        2509\n",
      "NOVA PALESTINA                    0.822438        2264\n",
      "REDENÇÃO                          0.822923        1553\n",
      "SANTO ANTÔNIO                     0.823744        2746\n",
      "PONTAL DE CAMBURI                 0.826087          69\n",
      "CONSOLAÇÃO                        0.827762        1376\n",
      "REPÚBLICA                         0.828743         835\n",
      "MATA DA PRAIA                     0.829193         644\n",
      "MORADA DE CAMBURI                 0.833333          96\n",
      "VILA RUBIM                        0.834313         851\n",
      "DO QUADRO                         0.835100         849\n",
      "JARDIM DA PENHA                   0.837245        3877\n",
      "SANTA MARTHA                      0.841584        3131\n",
      "DO CABRAL                         0.842857         560\n",
      "DE LOURDES                        0.845902         305\n",
      "SOLON BORGES                      0.852878         469\n",
      "MÁRIO CYPRESTE                    0.854447         371\n",
      "AEROPORTO                         0.875000           8\n",
      "ILHA DO BOI                       0.914286          35\n",
      "PARQUE INDUSTRIAL                 1.000000           1\n",
      "\n",
      "[81 rows x 2 columns]\n"
     ]
    }
   ],
   "source": [
    "mean_akr = df['appt_kept'].mean()\n",
    "print(f'Mean appointment kept rate: {mean_akr}')\n",
    "df_neighborhoods = pd.concat([neighborhood_means, neighborhood_counts], axis=1).rename(\n",
    "    columns={'appt_kept':'avg_appt_kept', 'neighborhood':'appt_count'})\n",
    "print(df_neighborhoods.sort_values(by=['avg_appt_kept']))\n"
   ]
  },
  {
   "cell_type": "markdown",
   "metadata": {},
   "source": [
    ">The last two relevant columns are the datetimes when the appointment was scheduled and when the appointment actually occurred. A describe method shows that the scheduled_day column has datetime information up to the second while appt_day only has information up to the day.\n",
    "\n",
    ">It can also be seen the oldest date in the scheduled_day column was November 2015 while for appt_day it was only as far back as April 2016. The most recent date for both columns was June 2016."
   ]
  },
  {
   "cell_type": "code",
   "execution_count": 100,
   "metadata": {},
   "outputs": [
    {
     "data": {
      "text/html": [
       "<div>\n",
       "<style>\n",
       "    .dataframe thead tr:only-child th {\n",
       "        text-align: right;\n",
       "    }\n",
       "\n",
       "    .dataframe thead th {\n",
       "        text-align: left;\n",
       "    }\n",
       "\n",
       "    .dataframe tbody tr th {\n",
       "        vertical-align: top;\n",
       "    }\n",
       "</style>\n",
       "<table border=\"1\" class=\"dataframe\">\n",
       "  <thead>\n",
       "    <tr style=\"text-align: right;\">\n",
       "      <th></th>\n",
       "      <th>scheduled_day</th>\n",
       "      <th>appt_day</th>\n",
       "    </tr>\n",
       "  </thead>\n",
       "  <tbody>\n",
       "    <tr>\n",
       "      <th>count</th>\n",
       "      <td>110527</td>\n",
       "      <td>110527</td>\n",
       "    </tr>\n",
       "    <tr>\n",
       "      <th>unique</th>\n",
       "      <td>103549</td>\n",
       "      <td>27</td>\n",
       "    </tr>\n",
       "    <tr>\n",
       "      <th>top</th>\n",
       "      <td>2016-05-06 07:09:54</td>\n",
       "      <td>2016-06-06 00:00:00</td>\n",
       "    </tr>\n",
       "    <tr>\n",
       "      <th>freq</th>\n",
       "      <td>24</td>\n",
       "      <td>4692</td>\n",
       "    </tr>\n",
       "    <tr>\n",
       "      <th>first</th>\n",
       "      <td>2015-11-10 07:13:56</td>\n",
       "      <td>2016-04-29 00:00:00</td>\n",
       "    </tr>\n",
       "    <tr>\n",
       "      <th>last</th>\n",
       "      <td>2016-06-08 20:07:23</td>\n",
       "      <td>2016-06-08 00:00:00</td>\n",
       "    </tr>\n",
       "  </tbody>\n",
       "</table>\n",
       "</div>"
      ],
      "text/plain": [
       "              scheduled_day             appt_day\n",
       "count                110527               110527\n",
       "unique               103549                   27\n",
       "top     2016-05-06 07:09:54  2016-06-06 00:00:00\n",
       "freq                     24                 4692\n",
       "first   2015-11-10 07:13:56  2016-04-29 00:00:00\n",
       "last    2016-06-08 20:07:23  2016-06-08 00:00:00"
      ]
     },
     "execution_count": 100,
     "metadata": {},
     "output_type": "execute_result"
    }
   ],
   "source": [
    "df.loc[:,'scheduled_day':'appt_day'].describe()\n"
   ]
  },
  {
   "cell_type": "markdown",
   "metadata": {},
   "source": [
    ">Using pandas datetime functionality I made new columns to explore if any particular day of the week or month of the year had higher or lower appointment kept rates.\n",
    "\n",
    ">For the day of the week columns, there were no Sunday appointments, and many fewer appointments were scheduled on and for Saturday. This of course makes sense as doctors and hospitals typically don't schedule their appointments during the weekends.\n",
    "\n",
    ">There's also something interesting going on with the months. For the scheduled_day column, even though data started getting collected at least by late November, there's only 61 and 60 appointments made for the months of December and January respectively. February is also pretty low compared to the summer months. \n",
    "\n",
    ">This is probably due to how the data was collected. Since appt_day data is only available for April 2016 through June 2016, it would make sense for those to be the most frequent months for when the appointment was scheduled as people probably schedule their appointments days to weeks and not months in advance."
   ]
  },
  {
   "cell_type": "code",
   "execution_count": 101,
   "metadata": {},
   "outputs": [],
   "source": [
    "df['scheduled_dow'] = df['scheduled_day'].dt.weekday_name\n",
    "df['scheduled_month'] = df['scheduled_day'].dt.month\n",
    "df['appt_dow'] = df['appt_day'].dt.weekday_name\n",
    "df['appt_month'] = df['appt_day'].dt.month\n",
    "sched_dow_count = df['scheduled_dow'].value_counts()\n",
    "sched_month_count = df['scheduled_month'].value_counts()\n",
    "appt_dow_count = df['appt_dow'].value_counts()\n",
    "appt_month_count = df['appt_month'].value_counts()"
   ]
  },
  {
   "cell_type": "markdown",
   "metadata": {},
   "source": [
    ">Finding the means for each day of the week and each month requires the groupby function."
   ]
  },
  {
   "cell_type": "code",
   "execution_count": 102,
   "metadata": {},
   "outputs": [],
   "source": [
    "sched_dow_mean = df.groupby(['scheduled_dow'])['appt_kept'].mean()\n",
    "sched_month_mean = df.groupby(['scheduled_month'])['appt_kept'].mean()\n",
    "appt_dow_mean = df.groupby(['appt_dow'])['appt_kept'].mean()\n",
    "appt_month_mean = df.groupby(['appt_month'])['appt_kept'].mean()"
   ]
  },
  {
   "cell_type": "markdown",
   "metadata": {},
   "source": [
    ">With the counts and means set up they can be combined into four tables and then visualized in bar graphs."
   ]
  },
  {
   "cell_type": "code",
   "execution_count": 103,
   "metadata": {},
   "outputs": [
    {
     "name": "stdout",
     "output_type": "stream",
     "text": [
      "           avg_appt_kept  appt_count\n",
      "Friday          0.794502       18915\n",
      "Monday          0.802426       23085\n",
      "Saturday        0.958333          24\n",
      "Thursday        0.795275       18073\n",
      "Tuesday         0.797806       26168\n",
      "Wednesday       0.798904       24262\n"
     ]
    },
    {
     "data": {
      "text/plain": [
       "Text(0,0.5,'Appointment Kept Rate')"
      ]
     },
     "execution_count": 103,
     "metadata": {},
     "output_type": "execute_result"
    },
    {
     "data": {
      "image/png": "[encoded data removed]",
      "text/plain": [
       "<matplotlib.figure.Figure at 0x7fc58902b390>"
      ]
     },
     "metadata": {},
     "output_type": "display_data"
    }
   ],
   "source": [
    "df_sched_dow = pd.concat([sched_dow_mean, sched_dow_count], axis=1).rename(\n",
    "    columns={'appt_kept':'avg_appt_kept', 'scheduled_dow':'appt_count'})\n",
    "print(df_sched_dow)\n",
    "ax=df_sched_dow['avg_appt_kept'].sort_values().plot(\n",
    "    kind='bar', title='Appointment Kept Rate by Day When the Appointment Was Scheduled')\n",
    "ax.set_xlabel('Day of the Week')\n",
    "ax.set_ylabel('Appointment Kept Rate')"
   ]
  },
  {
   "cell_type": "markdown",
   "metadata": {},
   "source": [
    ">For this next graph of the appointment kept rate by month when the appointment was scheduled, I felt a line graph was better suited for the visualization. But I wanted to not include the months that had very low appointment counts because those months were probable outliers."
   ]
  },
  {
   "cell_type": "code",
   "execution_count": 104,
   "metadata": {},
   "outputs": [
    {
     "name": "stdout",
     "output_type": "stream",
     "text": [
      "    avg_appt_kept  appt_count\n",
      "1        0.700000          60\n",
      "2        0.708185         281\n",
      "3        0.669065        3614\n",
      "4        0.690240       25339\n",
      "5        0.825440       67421\n",
      "6        0.899200       13750\n",
      "11       1.000000           1\n",
      "12       0.688525          61\n"
     ]
    },
    {
     "data": {
      "text/plain": [
       "Text(0,0.5,'Appointment Kept Rate')"
      ]
     },
     "execution_count": 104,
     "metadata": {},
     "output_type": "execute_result"
    },
    {
     "data": {
      "image/png": "[encoded data removed]",
      "text/plain": [
       "<matplotlib.figure.Figure at 0x7fc588af5d68>"
      ]
     },
     "metadata": {},
     "output_type": "display_data"
    }
   ],
   "source": [
    "df_sched_month = pd.concat([sched_month_mean, sched_month_count], axis=1).rename(\n",
    "    columns={'appt_kept':'avg_appt_kept', 'scheduled_month':'appt_count'})\n",
    "print(df_sched_month)\n",
    "\n",
    "ax=df_sched_month[df_sched_month['appt_count'] > 100]['avg_appt_kept'].plot(\n",
    "    kind='line',\n",
    "    title='Appointment Kept Rate by Month the Appointment Was Scheduled',\n",
    "    figsize=(8,4),xticks=[2,3,4,5,6])\n",
    "ax.set_xlabel('Month')\n",
    "ax.set_ylabel('Appointment Kept Rate')\n",
    "\n"
   ]
  },
  {
   "cell_type": "code",
   "execution_count": 105,
   "metadata": {},
   "outputs": [
    {
     "name": "stdout",
     "output_type": "stream",
     "text": [
      "           avg_appt_kept  appt_count\n",
      "Friday          0.787739       19019\n",
      "Monday          0.793529       22715\n",
      "Saturday        0.769231          39\n",
      "Thursday        0.806459       17247\n",
      "Tuesday         0.799064       25640\n",
      "Wednesday       0.803108       25867\n"
     ]
    },
    {
     "data": {
      "text/plain": [
       "Text(0,0.5,'Appointment Kept Rate')"
      ]
     },
     "execution_count": 105,
     "metadata": {},
     "output_type": "execute_result"
    },
    {
     "data": {
      "image/png": "[encoded data removed]",
      "text/plain": [
       "<matplotlib.figure.Figure at 0x7fc58959bfd0>"
      ]
     },
     "metadata": {},
     "output_type": "display_data"
    }
   ],
   "source": [
    "df_appt_dow = pd.concat([appt_dow_mean, appt_dow_count],axis=1).rename(\n",
    "    columns={'appt_kept':'avg_appt_kept','appt_dow':'appt_count'})\n",
    "print(df_appt_dow)\n",
    "ax=df_appt_dow['avg_appt_kept'].sort_values().plot(kind='bar', title='Appointment Kept Rate by Day the Appointment Occurred')\n",
    "ax.set_xlabel('Day of the Week')\n",
    "ax.set_ylabel('Appointment Kept Rate')\n"
   ]
  },
  {
   "cell_type": "code",
   "execution_count": 106,
   "metadata": {},
   "outputs": [
    {
     "name": "stdout",
     "output_type": "stream",
     "text": [
      "   avg_appt_kept  appt_count\n",
      "4       0.804328        3235\n",
      "5       0.792135       80841\n",
      "6       0.815432       26451\n"
     ]
    },
    {
     "data": {
      "text/plain": [
       "Text(0,0.5,'Appointment Kept Rate')"
      ]
     },
     "execution_count": 106,
     "metadata": {},
     "output_type": "execute_result"
    },
    {
     "data": {
      "image/png": "[encoded data removed]",
      "text/plain": [
       "<matplotlib.figure.Figure at 0x7fc58657fc88>"
      ]
     },
     "metadata": {},
     "output_type": "display_data"
    }
   ],
   "source": [
    "df_appt_month = pd.concat([appt_month_mean, appt_month_count],axis=1).rename(\n",
    "    columns={'appt_kept':'avg_appt_kept', 'appt_month':'appt_count'})\n",
    "print(df_appt_month)\n",
    "ax=df_appt_month['avg_appt_kept'].plot(kind='bar', title='Appointment Kept Rate by Month the Appointment Occurred')\n",
    "ax.set_xlabel('Month')\n",
    "ax.set_ylabel('Appointment Kept Rate')"
   ]
  },
  {
   "cell_type": "markdown",
   "metadata": {},
   "source": [
    ">Looking at the scheduled_day column grouped by month, there does seem to be a possibly significant pattern as May and June have visibly higher appointment kept rates than other columns (ignoring months with very low appointment counts like November and December). To investigate this further I wanted to see if maybe appointments that were scheduled closer to the actual appointment date might have fewer no-shows. \n",
    "\n",
    ">To do this I had to first truncate the scheduled_day column because it had higher precision than the appt_day column. After that I could subtract the two and then convert the new column into an integer so I could find the correlation between it and the appt_kept column."
   ]
  },
  {
   "cell_type": "code",
   "execution_count": 107,
   "metadata": {},
   "outputs": [
    {
     "data": {
      "text/plain": [
       "-0.18623082164154239"
      ]
     },
     "execution_count": 107,
     "metadata": {},
     "output_type": "execute_result"
    }
   ],
   "source": [
    "df['scheduled_day_trunc'] = df['scheduled_day'].values.astype('<M8[D]')\n",
    "df['date_diff'] = df['appt_day'] - df['scheduled_day_trunc']\n",
    "type(df['date_diff'][1])\n",
    "df['date_diff']=df['date_diff'].dt.days\n",
    "df['date_diff'].corr(df['appt_kept'])\n"
   ]
  },
  {
   "cell_type": "markdown",
   "metadata": {},
   "source": [
    "<a id='limitations'></a>\n",
    "## Limitations\n",
    "\n",
    ">This project involved a large amount of data but it did have its limitations. The major limitation is that I only used descriptive statistics and visualizations, with no inferential statistics. This means that my conclusions are suggestions based on how the data looked or the correlation values instead of any actual claims backed by p-values.\n",
    "\n",
    ">Another limitation is that I don't know how exactly this data was collected, other than it involved appointments made in the given Brazilian neighborhoods. I'm not sure if there was any special selection of appointments, such as if certain types of appointments were ignored, or maybe certain appointment types were less likely to be collected. Because I don't know the selection process for this data, I can't really comment on any possible selection bias.\n",
    "\n",
    ">I also don't know if this population of Brazilians who scheduled appointments fits into the general population of Brazil. This means I cannot say that this data represents the general population of Brazil and I cannot draw conclusions about the population of Brazil. I can only comment on this specific population of people that scheduled appointments, April to June, in the given Brazilian neighborhoods.\n",
    "\n",
    ">One factor I tried to investigate was date the appointment occurred but the data was rather limited in this regard. The data only contained appointment dates for a three month period, April, May, and June, so I could not really investigate whether any month of the year had better appointment kept rates."
   ]
  },
  {
   "cell_type": "markdown",
   "metadata": {},
   "source": [
    "<a id='conclusions'></a>\n",
    "## Conclusions\n",
    "\n",
    ">Over the course of this project I looked at multiple factors to see if any one of them looked like a strong predictor for keeping a medical appointment. For age, Bolsa Familia scholarship status, hypertension status, diabetes status, alcoholism status, handicap status, and if they received any sms messages from their medical providers, I looked directly at their correlation with if their appointment was kept. For all seven of these factors, the correlation was very low, with the sms received factor being the strongest relationship with a correlation of -0.126. This indicates an extremely weak inverse relationship, and not a good way to predict no-shows.\n",
    "\n",
    ">Other factors I looked at included gender, location (neighborhood), and date. For gender, the average kept appointment rate for women was 0.797, while for men it was 0.800. The two means being so close indicates that gender is also not a good predictor no-show status.\n",
    "\n",
    ">Grouping by neighborhood, I saw that there were some neighborhoods associated with higher or lower no-show rates. The neighborhood Santos Dumont, which had more than 1200 appointments only had a appointment kept rate of 0.711 compared to the total average rate of 0.798. On the other end of the spectrum, Maria Cypreste had a appointment kept rate of 0.854. Without using inferential statistics though, I cannot say if either of these extremes were statistically significant and warrant further investigation.\n",
    "\n",
    ">Lastly I looked at when the appointments were scheduled, and when the appointments were set for. I grouped both of these columns by day of the week and by month of the year. For when the appointment was scheduled, Saturdays showed a higher appointment kept rate but there were only 24 appointments in that category so that figure is probably unreliable. Grouping by month, and ignoring November, December, and January due to low appointment counts, there does seem to be a pattern. Appointments scheduled during May and June had a higher appointment kept rate. I thought that this might indicate that appointments set closer to when they were set by might have a higher appointment kept rate.\n",
    "\n",
    ">To investigate this I did some additional data wrangling and created a new column of the number of days between when an appointment was scheduled and when it took place, stored as an integer. Then finding the correlation between that column and the appointment kept column resulted in -0.186, a stronger relationship than the one with sms message status, but still extremely weak.\n",
    "\n",
    ">For the appointment day column, I created a table and graph for groupings by the day of the week and month of the year like I did for the scheduled day column. But all the groups had very similar means and so did not suggest any meaningful relationships to the appointment kept rate.\n",
    "\n",
    ">My overall conclusions are that none of these factors seem like very good predictors of no-shows. For future projects I would recommend another possible factor, which would be appointment type. I would initially suggest looking at annual check up appointments, specific issue appointments, follow up appointments, therapy appointments, and addiction related appointments. Perhaps these groups might show a stronger relationship to appointment kept rates. Also, data throughout the entire year would be helpful to determine if the date when an appointment was scheduled or date when the appointment occurred are good predictors of no-shows."
   ]
  },
  {
   "cell_type": "code",
   "execution_count": 108,
   "metadata": {},
   "outputs": [
    {
     "data": {
      "text/plain": [
       "0"
      ]
     },
     "execution_count": 108,
     "metadata": {},
     "output_type": "execute_result"
    }
   ],
   "source": [
    "from subprocess import call\n",
    "call(['python', '-m', 'nbconvert', 'Investigate_a_Dataset.ipynb'])"
   ]
  }
 ],
 "metadata": {
  "kernelspec": {
   "display_name": "Python 3",
   "language": "python",
   "name": "python3"
  },
  "language_info": {
   "codemirror_mode": {
    "name": "ipython",
    "version": 3
   },
   "file_extension": ".py",
   "mimetype": "text/x-python",
   "name": "python",
   "nbconvert_exporter": "python",
   "pygments_lexer": "ipython3",
   "version": "3.6.3"
  }
 },
 "nbformat": 4,
 "nbformat_minor": 2
}
